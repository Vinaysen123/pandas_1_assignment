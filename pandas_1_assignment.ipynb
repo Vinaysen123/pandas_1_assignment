{
 "cells": [
  {
   "cell_type": "code",
   "execution_count": 15,
   "id": "d522be79-d33e-469e-a962-8c58fa9dad62",
   "metadata": {},
   "outputs": [],
   "source": [
    "import pandas as pd"
   ]
  },
  {
   "cell_type": "code",
   "execution_count": 16,
   "id": "da9bc165-9822-44f3-8cc7-68cc4a756a62",
   "metadata": {},
   "outputs": [
    {
     "name": "stdout",
     "output_type": "stream",
     "text": [
      "Requirement already satisfied: pandas in /opt/conda/lib/python3.10/site-packages (1.5.2)\n",
      "Requirement already satisfied: python-dateutil>=2.8.1 in /opt/conda/lib/python3.10/site-packages (from pandas) (2.8.2)\n",
      "Requirement already satisfied: pytz>=2020.1 in /opt/conda/lib/python3.10/site-packages (from pandas) (2022.6)\n",
      "Requirement already satisfied: numpy>=1.21.0 in /opt/conda/lib/python3.10/site-packages (from pandas) (1.23.5)\n",
      "Requirement already satisfied: six>=1.5 in /opt/conda/lib/python3.10/site-packages (from python-dateutil>=2.8.1->pandas) (1.16.0)\n",
      "Note: you may need to restart the kernel to use updated packages.\n"
     ]
    }
   ],
   "source": [
    "pip install pandas"
   ]
  },
  {
   "cell_type": "code",
   "execution_count": 17,
   "id": "86ed5278-98b3-4c95-9556-9009a8717d08",
   "metadata": {},
   "outputs": [
    {
     "name": "stdout",
     "output_type": "stream",
     "text": [
      "0     4\n",
      "1     8\n",
      "2    15\n",
      "3    23\n",
      "4    42\n",
      "dtype: int64\n"
     ]
    }
   ],
   "source": [
    "#4, 8, 15, 16, 23, and 42.\n",
    "# 1. \n",
    "df = pd.Series([4,8,15,23,42])\n",
    "print(df)"
   ]
  },
  {
   "cell_type": "code",
   "execution_count": 18,
   "id": "674ddfd3-f939-47e1-971d-5f9470b02be9",
   "metadata": {},
   "outputs": [
    {
     "data": {
      "text/plain": [
       "0     1\n",
       "1     2\n",
       "2     3\n",
       "3     4\n",
       "4     5\n",
       "5     6\n",
       "6     7\n",
       "7     8\n",
       "8     9\n",
       "9    10\n",
       "dtype: int64"
      ]
     },
     "execution_count": 18,
     "metadata": {},
     "output_type": "execute_result"
    }
   ],
   "source": [
    "#2 .Q2. Create a variable of list type containing 10 elements in it, and apply pandas.Series function on the\n",
    "#variable print it.\n",
    "\n",
    "list = [1,2,3,4,5,6,7,8,9,10]\n",
    "pd.Series(list)"
   ]
  },
  {
   "cell_type": "code",
   "execution_count": 20,
   "id": "48956aa4-384e-47b4-8427-94d33919aa7a",
   "metadata": {},
   "outputs": [],
   "source": [
    "#3 .\n",
    "df1 = pd.DataFrame({ 'Name' : ['alice' , 'bob ', 'Claire'],\n",
    "                     'age'  : [ 25 , 30 ,27 ] ,\n",
    "                     'gender' : ['female' ,' male' ,'female']\n",
    "                   }\n",
    "    ) "
   ]
  },
  {
   "cell_type": "code",
   "execution_count": 21,
   "id": "6ef29592-cf1c-4686-b59e-ce839067caf0",
   "metadata": {},
   "outputs": [
    {
     "data": {
      "text/html": [
       "<div>\n",
       "<style scoped>\n",
       "    .dataframe tbody tr th:only-of-type {\n",
       "        vertical-align: middle;\n",
       "    }\n",
       "\n",
       "    .dataframe tbody tr th {\n",
       "        vertical-align: top;\n",
       "    }\n",
       "\n",
       "    .dataframe thead th {\n",
       "        text-align: right;\n",
       "    }\n",
       "</style>\n",
       "<table border=\"1\" class=\"dataframe\">\n",
       "  <thead>\n",
       "    <tr style=\"text-align: right;\">\n",
       "      <th></th>\n",
       "      <th>Name</th>\n",
       "      <th>age</th>\n",
       "      <th>gender</th>\n",
       "    </tr>\n",
       "  </thead>\n",
       "  <tbody>\n",
       "    <tr>\n",
       "      <th>0</th>\n",
       "      <td>alice</td>\n",
       "      <td>25</td>\n",
       "      <td>female</td>\n",
       "    </tr>\n",
       "    <tr>\n",
       "      <th>1</th>\n",
       "      <td>bob</td>\n",
       "      <td>30</td>\n",
       "      <td>male</td>\n",
       "    </tr>\n",
       "    <tr>\n",
       "      <th>2</th>\n",
       "      <td>Claire</td>\n",
       "      <td>27</td>\n",
       "      <td>female</td>\n",
       "    </tr>\n",
       "  </tbody>\n",
       "</table>\n",
       "</div>"
      ],
      "text/plain": [
       "     Name  age  gender\n",
       "0   alice   25  female\n",
       "1    bob    30    male\n",
       "2  Claire   27  female"
      ]
     },
     "execution_count": 21,
     "metadata": {},
     "output_type": "execute_result"
    }
   ],
   "source": [
    "df1.head()"
   ]
  },
  {
   "cell_type": "markdown",
   "id": "40825a8f-9669-4e01-a6c1-d9ba62d979b7",
   "metadata": {},
   "source": [
    "4 . A dataframe in pandas is a 2-dimension structure matrix which can hold a quntitatives as well as qualitative data .\n",
    "    it has a row and coloumn structure . each coloumn is of type series . the dataframe are used for build some conclusion \n",
    "    through a data .\n",
    "    \n"
   ]
  },
  {
   "cell_type": "markdown",
   "id": "4443a390-468e-4985-86f8-1569e87402c3",
   "metadata": {},
   "source": [
    "A series is a basic data structure . it stores data in linear fashion ."
   ]
  },
  {
   "cell_type": "code",
   "execution_count": 22,
   "id": "a677b1c8-3f6c-4eb4-91ff-3665b5e8ac1c",
   "metadata": {},
   "outputs": [],
   "source": [
    "# example of dataframe and series \n",
    "df2 = pd.DataFrame({ 'Name' : ['vinay' , 'akash', 'Tanishq'],\n",
    "                     'age'  : [ 21 , 21 ,21 ] ,\n",
    "                     'gender' : ['male' ,' male' ,'male'] , \n",
    "                    'field of interest' : ['Data science' , 'meran stack ' , 'codeforces contest ']\n",
    "                   }\n",
    "    ) "
   ]
  },
  {
   "cell_type": "code",
   "execution_count": 23,
   "id": "a7182579-09f1-4648-91b6-fcd257fe03c4",
   "metadata": {},
   "outputs": [
    {
     "data": {
      "text/html": [
       "<div>\n",
       "<style scoped>\n",
       "    .dataframe tbody tr th:only-of-type {\n",
       "        vertical-align: middle;\n",
       "    }\n",
       "\n",
       "    .dataframe tbody tr th {\n",
       "        vertical-align: top;\n",
       "    }\n",
       "\n",
       "    .dataframe thead th {\n",
       "        text-align: right;\n",
       "    }\n",
       "</style>\n",
       "<table border=\"1\" class=\"dataframe\">\n",
       "  <thead>\n",
       "    <tr style=\"text-align: right;\">\n",
       "      <th></th>\n",
       "      <th>Name</th>\n",
       "      <th>age</th>\n",
       "      <th>gender</th>\n",
       "      <th>field of interest</th>\n",
       "    </tr>\n",
       "  </thead>\n",
       "  <tbody>\n",
       "    <tr>\n",
       "      <th>0</th>\n",
       "      <td>vinay</td>\n",
       "      <td>21</td>\n",
       "      <td>male</td>\n",
       "      <td>Data science</td>\n",
       "    </tr>\n",
       "    <tr>\n",
       "      <th>1</th>\n",
       "      <td>akash</td>\n",
       "      <td>21</td>\n",
       "      <td>male</td>\n",
       "      <td>meran stack</td>\n",
       "    </tr>\n",
       "    <tr>\n",
       "      <th>2</th>\n",
       "      <td>Tanishq</td>\n",
       "      <td>21</td>\n",
       "      <td>male</td>\n",
       "      <td>codeforces contest</td>\n",
       "    </tr>\n",
       "  </tbody>\n",
       "</table>\n",
       "</div>"
      ],
      "text/plain": [
       "      Name  age gender    field of interest\n",
       "0    vinay   21   male         Data science\n",
       "1    akash   21   male         meran stack \n",
       "2  Tanishq   21   male  codeforces contest "
      ]
     },
     "execution_count": 23,
     "metadata": {},
     "output_type": "execute_result"
    }
   ],
   "source": [
    "df2.head()"
   ]
  },
  {
   "cell_type": "code",
   "execution_count": 24,
   "id": "f690fb60-61c9-4d4d-adaa-9540fab0a1cb",
   "metadata": {},
   "outputs": [],
   "source": [
    "series = pd.Series([1,2,3,4,6,5])"
   ]
  },
  {
   "cell_type": "code",
   "execution_count": 25,
   "id": "2577d0d1-c9c0-43ba-ba9f-741123e26838",
   "metadata": {},
   "outputs": [
    {
     "data": {
      "text/plain": [
       "0    1\n",
       "1    2\n",
       "2    3\n",
       "3    4\n",
       "4    6\n",
       "5    5\n",
       "dtype: int64"
      ]
     },
     "execution_count": 25,
     "metadata": {},
     "output_type": "execute_result"
    }
   ],
   "source": [
    "series"
   ]
  },
  {
   "cell_type": "markdown",
   "id": "68c4af8d-a233-4f4f-bee9-95d2f1ed3686",
   "metadata": {},
   "source": [
    "5. we can use some function like - describe , columns , dtypes , iloc , loc , groupby , merge , dropna , fillna , some condition under dataframes"
   ]
  },
  {
   "cell_type": "code",
   "execution_count": 31,
   "id": "3f3963f9-7526-4e0f-afcf-59ddfcffdb9b",
   "metadata": {},
   "outputs": [
    {
     "data": {
      "text/html": [
       "<div>\n",
       "<style scoped>\n",
       "    .dataframe tbody tr th:only-of-type {\n",
       "        vertical-align: middle;\n",
       "    }\n",
       "\n",
       "    .dataframe tbody tr th {\n",
       "        vertical-align: top;\n",
       "    }\n",
       "\n",
       "    .dataframe thead th {\n",
       "        text-align: right;\n",
       "    }\n",
       "</style>\n",
       "<table border=\"1\" class=\"dataframe\">\n",
       "  <thead>\n",
       "    <tr style=\"text-align: right;\">\n",
       "      <th></th>\n",
       "      <th>Name</th>\n",
       "      <th>age</th>\n",
       "      <th>gender</th>\n",
       "      <th>field of interest</th>\n",
       "    </tr>\n",
       "  </thead>\n",
       "  <tbody>\n",
       "    <tr>\n",
       "      <th>0</th>\n",
       "      <td>vinay</td>\n",
       "      <td>21</td>\n",
       "      <td>male</td>\n",
       "      <td>Data science</td>\n",
       "    </tr>\n",
       "    <tr>\n",
       "      <th>1</th>\n",
       "      <td>akash</td>\n",
       "      <td>21</td>\n",
       "      <td>male</td>\n",
       "      <td>meran stack</td>\n",
       "    </tr>\n",
       "    <tr>\n",
       "      <th>2</th>\n",
       "      <td>Tanishq</td>\n",
       "      <td>21</td>\n",
       "      <td>male</td>\n",
       "      <td>codeforces contest</td>\n",
       "    </tr>\n",
       "  </tbody>\n",
       "</table>\n",
       "</div>"
      ],
      "text/plain": [
       "      Name  age gender    field of interest\n",
       "0    vinay   21   male         Data science\n",
       "1    akash   21   male         meran stack \n",
       "2  Tanishq   21   male  codeforces contest "
      ]
     },
     "execution_count": 31,
     "metadata": {},
     "output_type": "execute_result"
    }
   ],
   "source": [
    "# example \n",
    "df2[df2['age'] > 20]\n"
   ]
  },
  {
   "cell_type": "code",
   "execution_count": 30,
   "id": "73a74331-b949-4830-a66f-082d3ef46798",
   "metadata": {},
   "outputs": [
    {
     "data": {
      "text/html": [
       "<div>\n",
       "<style scoped>\n",
       "    .dataframe tbody tr th:only-of-type {\n",
       "        vertical-align: middle;\n",
       "    }\n",
       "\n",
       "    .dataframe tbody tr th {\n",
       "        vertical-align: top;\n",
       "    }\n",
       "\n",
       "    .dataframe thead th {\n",
       "        text-align: right;\n",
       "    }\n",
       "</style>\n",
       "<table border=\"1\" class=\"dataframe\">\n",
       "  <thead>\n",
       "    <tr style=\"text-align: right;\">\n",
       "      <th></th>\n",
       "      <th>Name</th>\n",
       "      <th>age</th>\n",
       "      <th>gender</th>\n",
       "      <th>field of interest</th>\n",
       "    </tr>\n",
       "  </thead>\n",
       "  <tbody>\n",
       "    <tr>\n",
       "      <th>0</th>\n",
       "      <td>vinay</td>\n",
       "      <td>21</td>\n",
       "      <td>male</td>\n",
       "      <td>Data science</td>\n",
       "    </tr>\n",
       "  </tbody>\n",
       "</table>\n",
       "</div>"
      ],
      "text/plain": [
       "    Name  age gender field of interest\n",
       "0  vinay   21   male      Data science"
      ]
     },
     "execution_count": 30,
     "metadata": {},
     "output_type": "execute_result"
    }
   ],
   "source": [
    "df2[df2['Name'] == 'vinay']"
   ]
  },
  {
   "cell_type": "markdown",
   "id": "d3d90895-b3fc-4a30-85f9-b2f23cdef28b",
   "metadata": {},
   "source": [
    "6 . In Pandas, a Series , Dataframe , panel  is mutable, meaning you can change the values in a Series , dataframe , panel after it has been created.     You can modify individual elements in a Series by assigning new values to them.\n",
    "    In pandas dataframe are most popular , then Series , panel are least used .\n",
    "\n"
   ]
  },
  {
   "cell_type": "code",
   "execution_count": 34,
   "id": "df248901-1712-4faf-97d0-b178494dbaa5",
   "metadata": {},
   "outputs": [
    {
     "data": {
      "text/html": [
       "<div>\n",
       "<style scoped>\n",
       "    .dataframe tbody tr th:only-of-type {\n",
       "        vertical-align: middle;\n",
       "    }\n",
       "\n",
       "    .dataframe tbody tr th {\n",
       "        vertical-align: top;\n",
       "    }\n",
       "\n",
       "    .dataframe thead th {\n",
       "        text-align: right;\n",
       "    }\n",
       "</style>\n",
       "<table border=\"1\" class=\"dataframe\">\n",
       "  <thead>\n",
       "    <tr style=\"text-align: right;\">\n",
       "      <th></th>\n",
       "      <th>Id</th>\n",
       "      <th>Name</th>\n",
       "      <th>color</th>\n",
       "    </tr>\n",
       "  </thead>\n",
       "  <tbody>\n",
       "    <tr>\n",
       "      <th>0</th>\n",
       "      <td>1</td>\n",
       "      <td>a</td>\n",
       "      <td>red</td>\n",
       "    </tr>\n",
       "    <tr>\n",
       "      <th>1</th>\n",
       "      <td>2</td>\n",
       "      <td>b</td>\n",
       "      <td>blue</td>\n",
       "    </tr>\n",
       "    <tr>\n",
       "      <th>2</th>\n",
       "      <td>3</td>\n",
       "      <td>c</td>\n",
       "      <td>green</td>\n",
       "    </tr>\n",
       "    <tr>\n",
       "      <th>3</th>\n",
       "      <td>4</td>\n",
       "      <td>d</td>\n",
       "      <td>yellow</td>\n",
       "    </tr>\n",
       "    <tr>\n",
       "      <th>4</th>\n",
       "      <td>5</td>\n",
       "      <td>e</td>\n",
       "      <td>orange</td>\n",
       "    </tr>\n",
       "  </tbody>\n",
       "</table>\n",
       "</div>"
      ],
      "text/plain": [
       "   Id Name   color\n",
       "0   1    a     red\n",
       "1   2    b    blue\n",
       "2   3    c   green\n",
       "3   4    d  yellow\n",
       "4   5    e  orange"
      ]
     },
     "execution_count": 34,
     "metadata": {},
     "output_type": "execute_result"
    }
   ],
   "source": [
    "#7 .\n",
    "list1 = [1,2,3,4,5]\n",
    "Id = pd.Series(list1)\n",
    "\n",
    "list2 = ['a' , 'b' , 'c' , 'd' ,'e']\n",
    "Name = pd.Series(list2)\n",
    "\n",
    "list3 = ['red' , 'blue' , 'green' , 'yellow' , 'orange']\n",
    "color = pd.Series(list3)\n",
    "\n",
    "df3 = pd.DataFrame({'Id' : Id ,\n",
    "                    'Name' : Name , \n",
    "                    'color' : color\n",
    "                   })\n",
    "df3.head()"
   ]
  }
 ],
 "metadata": {
  "kernelspec": {
   "display_name": "Python 3 (ipykernel)",
   "language": "python",
   "name": "python3"
  },
  "language_info": {
   "codemirror_mode": {
    "name": "ipython",
    "version": 3
   },
   "file_extension": ".py",
   "mimetype": "text/x-python",
   "name": "python",
   "nbconvert_exporter": "python",
   "pygments_lexer": "ipython3",
   "version": "3.10.8"
  }
 },
 "nbformat": 4,
 "nbformat_minor": 5
}
